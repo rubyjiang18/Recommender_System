{
 "cells": [
  {
   "cell_type": "markdown",
   "metadata": {},
   "source": [
    "<img src=\"cold.png\" alt=\"score\" width=\"500\" height=\"200\">\n",
    "<img src=\"like.png\" alt=\"score\" width=\"500\" height=\"200\">\n",
    "<img src=\"commonsense.png\" alt=\"score\" width=\"500\" height=\"200\">\n",
    "<img src=\"commonsense2.png\" alt=\"score\" width=\"500\" height=\"200\">\n",
    "<img src=\"commonsense3.png\" alt=\"score\" width=\"500\" height=\"200\">"
   ]
  },
  {
   "cell_type": "markdown",
   "metadata": {},
   "source": [
    "1. simple method\n",
    "2. ask user\n",
    "3. buy data"
   ]
  },
  {
   "cell_type": "code",
   "execution_count": null,
   "metadata": {},
   "outputs": [],
   "source": []
  }
 ],
 "metadata": {
  "kernelspec": {
   "display_name": "Python 3",
   "language": "python",
   "name": "python3"
  },
  "language_info": {
   "codemirror_mode": {
    "name": "ipython",
    "version": 3
   },
   "file_extension": ".py",
   "mimetype": "text/x-python",
   "name": "python",
   "nbconvert_exporter": "python",
   "pygments_lexer": "ipython3",
   "version": "3.7.6"
  }
 },
 "nbformat": 4,
 "nbformat_minor": 4
}
