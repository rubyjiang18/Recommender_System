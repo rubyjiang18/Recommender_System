{
 "cells": [
  {
   "cell_type": "markdown",
   "metadata": {},
   "source": [
    "# Preprocess the MovieLens Data\n",
    "\n",
    "1. [EDA](#eda)\n",
    "2. [Preprocess](#preprocess)\n",
    "3. [Shink the dataframe](#shrink)\n",
    "4. [To dictionary](#dict)\n"
   ]
  },
  {
   "cell_type": "markdown",
   "metadata": {},
   "source": [
    "## <a id='eda'>1. Exploratory Data Analysis </a>"
   ]
  },
  {
   "cell_type": "code",
   "execution_count": 1,
   "metadata": {},
   "outputs": [],
   "source": [
    "import pandas as pd\n",
    "import numpy as np\n",
    "import matplotlib.pyplot as plt"
   ]
  },
  {
   "cell_type": "code",
   "execution_count": 2,
   "metadata": {},
   "outputs": [],
   "source": [
    "path = \"/Users/rubyjiang/Desktop/machine_learning_examples/large_files/movielens-20m-dataset/rating.csv\"\n",
    "df = pd.read_csv(path)"
   ]
  },
  {
   "cell_type": "code",
   "execution_count": 3,
   "metadata": {},
   "outputs": [
    {
     "data": {
      "text/html": [
       "<div>\n",
       "<style scoped>\n",
       "    .dataframe tbody tr th:only-of-type {\n",
       "        vertical-align: middle;\n",
       "    }\n",
       "\n",
       "    .dataframe tbody tr th {\n",
       "        vertical-align: top;\n",
       "    }\n",
       "\n",
       "    .dataframe thead th {\n",
       "        text-align: right;\n",
       "    }\n",
       "</style>\n",
       "<table border=\"1\" class=\"dataframe\">\n",
       "  <thead>\n",
       "    <tr style=\"text-align: right;\">\n",
       "      <th></th>\n",
       "      <th>userId</th>\n",
       "      <th>movieId</th>\n",
       "      <th>rating</th>\n",
       "      <th>timestamp</th>\n",
       "    </tr>\n",
       "  </thead>\n",
       "  <tbody>\n",
       "    <tr>\n",
       "      <th>0</th>\n",
       "      <td>1</td>\n",
       "      <td>2</td>\n",
       "      <td>3.5</td>\n",
       "      <td>2005-04-02 23:53:47</td>\n",
       "    </tr>\n",
       "    <tr>\n",
       "      <th>1</th>\n",
       "      <td>1</td>\n",
       "      <td>29</td>\n",
       "      <td>3.5</td>\n",
       "      <td>2005-04-02 23:31:16</td>\n",
       "    </tr>\n",
       "    <tr>\n",
       "      <th>2</th>\n",
       "      <td>1</td>\n",
       "      <td>32</td>\n",
       "      <td>3.5</td>\n",
       "      <td>2005-04-02 23:33:39</td>\n",
       "    </tr>\n",
       "    <tr>\n",
       "      <th>3</th>\n",
       "      <td>1</td>\n",
       "      <td>47</td>\n",
       "      <td>3.5</td>\n",
       "      <td>2005-04-02 23:32:07</td>\n",
       "    </tr>\n",
       "    <tr>\n",
       "      <th>4</th>\n",
       "      <td>1</td>\n",
       "      <td>50</td>\n",
       "      <td>3.5</td>\n",
       "      <td>2005-04-02 23:29:40</td>\n",
       "    </tr>\n",
       "  </tbody>\n",
       "</table>\n",
       "</div>"
      ],
      "text/plain": [
       "   userId  movieId  rating            timestamp\n",
       "0       1        2     3.5  2005-04-02 23:53:47\n",
       "1       1       29     3.5  2005-04-02 23:31:16\n",
       "2       1       32     3.5  2005-04-02 23:33:39\n",
       "3       1       47     3.5  2005-04-02 23:32:07\n",
       "4       1       50     3.5  2005-04-02 23:29:40"
      ]
     },
     "execution_count": 3,
     "metadata": {},
     "output_type": "execute_result"
    }
   ],
   "source": [
    "df.head()"
   ]
  },
  {
   "cell_type": "code",
   "execution_count": 4,
   "metadata": {},
   "outputs": [
    {
     "data": {
      "text/plain": [
       "138493"
      ]
     },
     "execution_count": 4,
     "metadata": {},
     "output_type": "execute_result"
    }
   ],
   "source": [
    "len(df.userId.unique())"
   ]
  },
  {
   "cell_type": "code",
   "execution_count": 5,
   "metadata": {},
   "outputs": [
    {
     "data": {
      "text/plain": [
       "26744"
      ]
     },
     "execution_count": 5,
     "metadata": {},
     "output_type": "execute_result"
    }
   ],
   "source": [
    "len(df.movieId.unique())"
   ]
  },
  {
   "cell_type": "code",
   "execution_count": 6,
   "metadata": {},
   "outputs": [
    {
     "data": {
      "text/plain": [
       "userId       False\n",
       "movieId      False\n",
       "rating       False\n",
       "timestamp    False\n",
       "dtype: bool"
      ]
     },
     "execution_count": 6,
     "metadata": {},
     "output_type": "execute_result"
    }
   ],
   "source": [
    "df.isnull().any()"
   ]
  },
  {
   "cell_type": "code",
   "execution_count": 7,
   "metadata": {},
   "outputs": [],
   "source": [
    "def get_missing_ids(column: str) -> int:\n",
    "    ids = df[column]\n",
    "    reference_ids = np.arange(1, max(ids)+1)\n",
    "    missing_ids = set(reference_ids) - set(ids)\n",
    "    print(column + \": \", len(missing_ids))"
   ]
  },
  {
   "cell_type": "code",
   "execution_count": 8,
   "metadata": {},
   "outputs": [
    {
     "name": "stdout",
     "output_type": "stream",
     "text": [
      "userId:  0\n",
      "movieId:  104518\n"
     ]
    }
   ],
   "source": [
    "get_missing_ids('userId')\n",
    "get_missing_ids('movieId')"
   ]
  },
  {
   "cell_type": "markdown",
   "metadata": {},
   "source": [
    "**user ids are ordered sequentially from 1..138493 <br>\n",
    "with no missing numbers<br>\n",
    "movie ids are integers from 1..131262<br>\n",
    "NOT all movie ids appear<br>\n",
    "there are only 26744 movie ids<br>**\n"
   ]
  },
  {
   "cell_type": "markdown",
   "metadata": {},
   "source": [
    "## <a id='preprocrss'>2. Preprocess </a>\n",
    "Check out the **preprocrss.py** for a cleaner version."
   ]
  },
  {
   "cell_type": "code",
   "execution_count": 9,
   "metadata": {},
   "outputs": [],
   "source": [
    "# make the user id go from 0 to N-1\n",
    "df['userId'] = df['userId'] - 1"
   ]
  },
  {
   "cell_type": "code",
   "execution_count": 10,
   "metadata": {},
   "outputs": [],
   "source": [
    "# create a mapping for movie ids, that map from old id to new id\n",
    "unique_movie_ids = set(df['movieId'].values)\n",
    "movie2indx = dict()\n",
    "index = 0\n",
    "for movie_id in unique_movie_ids:\n",
    "    movie2indx[movie_id] = index\n",
    "    index += 1\n",
    "# Add to df\n",
    "df['movie_idx'] = df.apply(lambda row: movie2indx[row.movieId], axis=1)"
   ]
  },
  {
   "cell_type": "code",
   "execution_count": 11,
   "metadata": {},
   "outputs": [],
   "source": [
    "df = df.drop(columns=['timestamp'])\n",
    "save_path = \"/Users/rubyjiang/Desktop/machine_learning_examples/large_files/movielens-20m-dataset/edited_rating.csv\"\n",
    "df.to_csv(save_path, index = False)"
   ]
  },
  {
   "cell_type": "code",
   "execution_count": 12,
   "metadata": {},
   "outputs": [
    {
     "data": {
      "text/html": [
       "<div>\n",
       "<style scoped>\n",
       "    .dataframe tbody tr th:only-of-type {\n",
       "        vertical-align: middle;\n",
       "    }\n",
       "\n",
       "    .dataframe tbody tr th {\n",
       "        vertical-align: top;\n",
       "    }\n",
       "\n",
       "    .dataframe thead th {\n",
       "        text-align: right;\n",
       "    }\n",
       "</style>\n",
       "<table border=\"1\" class=\"dataframe\">\n",
       "  <thead>\n",
       "    <tr style=\"text-align: right;\">\n",
       "      <th></th>\n",
       "      <th>userId</th>\n",
       "      <th>movieId</th>\n",
       "      <th>rating</th>\n",
       "      <th>movie_idx</th>\n",
       "    </tr>\n",
       "  </thead>\n",
       "  <tbody>\n",
       "    <tr>\n",
       "      <th>0</th>\n",
       "      <td>0</td>\n",
       "      <td>2</td>\n",
       "      <td>3.5</td>\n",
       "      <td>2</td>\n",
       "    </tr>\n",
       "    <tr>\n",
       "      <th>1</th>\n",
       "      <td>0</td>\n",
       "      <td>29</td>\n",
       "      <td>3.5</td>\n",
       "      <td>29</td>\n",
       "    </tr>\n",
       "    <tr>\n",
       "      <th>2</th>\n",
       "      <td>0</td>\n",
       "      <td>32</td>\n",
       "      <td>3.5</td>\n",
       "      <td>32</td>\n",
       "    </tr>\n",
       "    <tr>\n",
       "      <th>3</th>\n",
       "      <td>0</td>\n",
       "      <td>47</td>\n",
       "      <td>3.5</td>\n",
       "      <td>47</td>\n",
       "    </tr>\n",
       "    <tr>\n",
       "      <th>4</th>\n",
       "      <td>0</td>\n",
       "      <td>50</td>\n",
       "      <td>3.5</td>\n",
       "      <td>50</td>\n",
       "    </tr>\n",
       "  </tbody>\n",
       "</table>\n",
       "</div>"
      ],
      "text/plain": [
       "   userId  movieId  rating  movie_idx\n",
       "0       0        2     3.5          2\n",
       "1       0       29     3.5         29\n",
       "2       0       32     3.5         32\n",
       "3       0       47     3.5         47\n",
       "4       0       50     3.5         50"
      ]
     },
     "execution_count": 12,
     "metadata": {},
     "output_type": "execute_result"
    }
   ],
   "source": [
    "df.head()"
   ]
  },
  {
   "cell_type": "markdown",
   "metadata": {},
   "source": [
    "## <a id='shrink'>3. Shrink the data </a>\n",
    "- Full dataset is too large to perform an O(N^2) algorithm (User-User CF)\n",
    "- If you are an expert at big data (e.g., Spark), you can write a distributed job\n",
    "- Check out the **preprocess_shrink.py** file for a cleaner version\n",
    "\n",
    "Idea:\n",
    "- Select subset of users and movies\n",
    "- Users whho rated the most movies\n",
    "- Movies who've been rated by the most users"
   ]
  },
  {
   "cell_type": "code",
   "execution_count": 13,
   "metadata": {},
   "outputs": [],
   "source": [
    "import pickle\n",
    "import numpy as np\n",
    "import pandas as pd\n",
    "from collections import Counter"
   ]
  },
  {
   "cell_type": "code",
   "execution_count": 14,
   "metadata": {},
   "outputs": [
    {
     "name": "stdout",
     "output_type": "stream",
     "text": [
      "original dataframe size:  20000263\n"
     ]
    }
   ],
   "source": [
    "print(\"original dataframe size: \", len(df))"
   ]
  },
  {
   "cell_type": "code",
   "execution_count": 19,
   "metadata": {},
   "outputs": [],
   "source": [
    "# number of users\n",
    "N = len(set(df['userId']))\n",
    "# number of movies\n",
    "M = df['movie_idx'].max() + 1\n",
    "\n",
    "# count the occurance of each user id and movie id\n",
    "user_ids_count = Counter(df['userId'])\n",
    "movie_ids_count = Counter(df['movie_idx'])"
   ]
  },
  {
   "cell_type": "code",
   "execution_count": 23,
   "metadata": {},
   "outputs": [],
   "source": [
    "# number of users and movies we would like to keep\n",
    "n = int(1e4)\n",
    "m = int(2e3)\n",
    "\n",
    "user_ids = [u for u, c in user_ids_count.most_common(n)]\n",
    "movie_ids = [m for m, c in movie_ids_count.most_common(m)]"
   ]
  },
  {
   "cell_type": "code",
   "execution_count": 25,
   "metadata": {},
   "outputs": [],
   "source": [
    "# make a copy, o.w. ids wont be overwritten\n",
    "df_small = df[df.userId.isin(user_ids) & df.movie_idx.isin(movie_ids)].copy()"
   ]
  },
  {
   "cell_type": "code",
   "execution_count": 26,
   "metadata": {},
   "outputs": [
    {
     "data": {
      "text/plain": [
       "5392025"
      ]
     },
     "execution_count": 26,
     "metadata": {},
     "output_type": "execute_result"
    }
   ],
   "source": [
    "len(df_small)"
   ]
  },
  {
   "cell_type": "markdown",
   "metadata": {},
   "source": [
    "Need to remake user ids and movie ids since they are no longer sequential"
   ]
  },
  {
   "cell_type": "code",
   "execution_count": 33,
   "metadata": {},
   "outputs": [
    {
     "data": {
      "text/plain": [
       "2000"
      ]
     },
     "execution_count": 33,
     "metadata": {},
     "output_type": "execute_result"
    }
   ],
   "source": [
    "len(movie_ids)"
   ]
  },
  {
   "cell_type": "code",
   "execution_count": null,
   "metadata": {},
   "outputs": [],
   "source": [
    "new_user_id_map = dict()\n",
    "new_movie_id_map = dict()\n",
    "\n",
    "index = 0\n",
    "for old_id in user_ids:\n",
    "    new_user_id_map[old_id] = index\n",
    "    index+=1\n",
    "print('user map done')\n",
    "    \n",
    "index = 0\n",
    "for old_id in movie_ids:\n",
    "    new_movie_id_map[old_id] = index\n",
    "    index += 1\n",
    "print('movie map donw')\n",
    "\n",
    "print('Setting new id')\n",
    "df_small.loc[:, 'userId'] = df_small.apply(lambda row: new_user_id_map[row.userId], axis = 1)\n",
    "df_small.loc[:, 'movie_idx'] = df_small.apply(lambda row: new_movie_id_map[row.movie_idx], axis=1)\n"
   ]
  },
  {
   "cell_type": "code",
   "execution_count": 37,
   "metadata": {},
   "outputs": [
    {
     "data": {
      "text/plain": [
       "5392025"
      ]
     },
     "execution_count": 37,
     "metadata": {},
     "output_type": "execute_result"
    }
   ],
   "source": [
    "len(df_small)"
   ]
  },
  {
   "cell_type": "code",
   "execution_count": 36,
   "metadata": {},
   "outputs": [
    {
     "name": "stdout",
     "output_type": "stream",
     "text": [
      "max user id:  9999\n",
      "max movie id:  1999\n"
     ]
    }
   ],
   "source": [
    "print(\"max user id: \", df_small['userId'].max())\n",
    "print(\"max movie id: \", df_small['movie_idx'].max())"
   ]
  },
  {
   "cell_type": "code",
   "execution_count": 39,
   "metadata": {},
   "outputs": [],
   "source": [
    "save_path = \"/Users/rubyjiang/Desktop/machine_learning_examples/large_files/movielens-20m-dataset/very_small_rating.csv\"\n",
    "df_small.to_csv(save_path, index=False)"
   ]
  },
  {
   "cell_type": "markdown",
   "metadata": {},
   "source": [
    "## <a id='dict'>4. Preprocrss to Dictionary </a>"
   ]
  },
  {
   "cell_type": "markdown",
   "metadata": {},
   "source": [
    "#### Table to Dictionary\n",
    "In code, we want to ask questions like:\n",
    "    - Given user i, which movies j did this user rate?\n",
    "    - Given movie j, which users i have rated it?\n",
    "    - Given user i and movie j, what is the rating?\n",
    "Therefore, we have\n",
    "    - user2movie: user ID -> movie ID\n",
    "    - movie2user: movie ID -> user ID\n",
    "    - usermovie2rating: (user ID, movie ID) -> rating\n",
    "    \n",
    "Why dict? efficient for look up O(phi)"
   ]
  },
  {
   "cell_type": "code",
   "execution_count": 41,
   "metadata": {},
   "outputs": [],
   "source": [
    "import pickle\n",
    "import matplotlib.pyplot as plt\n",
    "from sklearn.utils import shuffle"
   ]
  },
  {
   "cell_type": "code",
   "execution_count": 42,
   "metadata": {},
   "outputs": [],
   "source": [
    "path = save_path = \"/Users/rubyjiang/Desktop/machine_learning_examples/large_files/movielens-20m-dataset/very_small_rating.csv\"\n",
    "df = pd.read_csv(path)"
   ]
  },
  {
   "cell_type": "code",
   "execution_count": 43,
   "metadata": {},
   "outputs": [
    {
     "data": {
      "text/html": [
       "<div>\n",
       "<style scoped>\n",
       "    .dataframe tbody tr th:only-of-type {\n",
       "        vertical-align: middle;\n",
       "    }\n",
       "\n",
       "    .dataframe tbody tr th {\n",
       "        vertical-align: top;\n",
       "    }\n",
       "\n",
       "    .dataframe thead th {\n",
       "        text-align: right;\n",
       "    }\n",
       "</style>\n",
       "<table border=\"1\" class=\"dataframe\">\n",
       "  <thead>\n",
       "    <tr style=\"text-align: right;\">\n",
       "      <th></th>\n",
       "      <th>userId</th>\n",
       "      <th>movieId</th>\n",
       "      <th>rating</th>\n",
       "      <th>movie_idx</th>\n",
       "    </tr>\n",
       "  </thead>\n",
       "  <tbody>\n",
       "    <tr>\n",
       "      <th>0</th>\n",
       "      <td>7307</td>\n",
       "      <td>1</td>\n",
       "      <td>4.5</td>\n",
       "      <td>10</td>\n",
       "    </tr>\n",
       "    <tr>\n",
       "      <th>1</th>\n",
       "      <td>7307</td>\n",
       "      <td>10</td>\n",
       "      <td>2.5</td>\n",
       "      <td>68</td>\n",
       "    </tr>\n",
       "    <tr>\n",
       "      <th>2</th>\n",
       "      <td>7307</td>\n",
       "      <td>19</td>\n",
       "      <td>3.5</td>\n",
       "      <td>143</td>\n",
       "    </tr>\n",
       "    <tr>\n",
       "      <th>3</th>\n",
       "      <td>7307</td>\n",
       "      <td>32</td>\n",
       "      <td>5.0</td>\n",
       "      <td>19</td>\n",
       "    </tr>\n",
       "    <tr>\n",
       "      <th>4</th>\n",
       "      <td>7307</td>\n",
       "      <td>39</td>\n",
       "      <td>4.5</td>\n",
       "      <td>85</td>\n",
       "    </tr>\n",
       "  </tbody>\n",
       "</table>\n",
       "</div>"
      ],
      "text/plain": [
       "   userId  movieId  rating  movie_idx\n",
       "0    7307        1     4.5         10\n",
       "1    7307       10     2.5         68\n",
       "2    7307       19     3.5        143\n",
       "3    7307       32     5.0         19\n",
       "4    7307       39     4.5         85"
      ]
     },
     "execution_count": 43,
     "metadata": {},
     "output_type": "execute_result"
    }
   ],
   "source": [
    "df.head()"
   ]
  },
  {
   "cell_type": "code",
   "execution_count": 44,
   "metadata": {},
   "outputs": [],
   "source": [
    "N = df['userId'].max() + 1\n",
    "M = df['movie_idx'].max() + 1"
   ]
  },
  {
   "cell_type": "code",
   "execution_count": 45,
   "metadata": {},
   "outputs": [],
   "source": [
    "# split into train and test\n",
    "df = shuffle(df)\n",
    "cutoff = int(0.8*len(df))\n",
    "df_train = df.iloc[:cutoff]\n",
    "df_test = df.iloc[cutoff:]"
   ]
  },
  {
   "cell_type": "code",
   "execution_count": 47,
   "metadata": {
    "scrolled": true
   },
   "outputs": [
    {
     "name": "stdout",
     "output_type": "stream",
     "text": [
      "processed: 0.023\n",
      "processed: 0.046\n",
      "processed: 0.070\n",
      "processed: 0.093\n",
      "processed: 0.116\n",
      "processed: 0.139\n",
      "processed: 0.162\n",
      "processed: 0.185\n",
      "processed: 0.209\n",
      "processed: 0.232\n",
      "processed: 0.255\n",
      "processed: 0.278\n",
      "processed: 0.301\n",
      "processed: 0.325\n",
      "processed: 0.348\n",
      "processed: 0.371\n",
      "processed: 0.394\n",
      "processed: 0.417\n",
      "processed: 0.440\n",
      "processed: 0.464\n",
      "processed: 0.487\n",
      "processed: 0.510\n",
      "processed: 0.533\n",
      "processed: 0.556\n",
      "processed: 0.580\n",
      "processed: 0.603\n",
      "processed: 0.626\n",
      "processed: 0.649\n",
      "processed: 0.672\n",
      "processed: 0.695\n",
      "processed: 0.719\n",
      "processed: 0.742\n",
      "processed: 0.765\n",
      "processed: 0.788\n",
      "processed: 0.811\n",
      "processed: 0.835\n",
      "processed: 0.858\n",
      "processed: 0.881\n",
      "processed: 0.904\n",
      "processed: 0.927\n",
      "processed: 0.950\n",
      "processed: 0.974\n",
      "processed: 0.997\n"
     ]
    },
    {
     "data": {
      "text/plain": [
       "1525932    None\n",
       "2953601    None\n",
       "345992     None\n",
       "2636347    None\n",
       "2267471    None\n",
       "           ... \n",
       "3666631    None\n",
       "1127385    None\n",
       "3836101    None\n",
       "1123273    None\n",
       "4837118    None\n",
       "Length: 4313620, dtype: object"
      ]
     },
     "execution_count": 47,
     "metadata": {},
     "output_type": "execute_result"
    }
   ],
   "source": [
    "user2movie = dict()\n",
    "movie2user = dict()\n",
    "usermovie2rating = dict()\n",
    "\n",
    "count = 0\n",
    "def update_dictionaries(row):\n",
    "    global count\n",
    "    count += 1\n",
    "    if count % 100000 == 0:\n",
    "        print(\"processed: %.3f\" % (float(count)/cutoff))\n",
    "    \n",
    "    i = int(row['userId'])\n",
    "    j = int(row['movie_idx'])\n",
    "    \n",
    "    if i not in user2movie:\n",
    "        user2movie[i] = [j]\n",
    "    else:\n",
    "        user2movie[i].append(j)\n",
    "        \n",
    "    if j not in movie2user:\n",
    "        movie2user[j] = [i]\n",
    "    else:\n",
    "        movie2user[j].append(i)\n",
    "    \n",
    "    usermovie2rating[(i,j)] = row['rating']\n",
    "    \n",
    "df_train.apply(update_dictionaries, axis=1)"
   ]
  },
  {
   "cell_type": "code",
   "execution_count": 53,
   "metadata": {},
   "outputs": [
    {
     "name": "stdout",
     "output_type": "stream",
     "text": [
      "Calling: update_usermovie2rating_test\n",
      "processed: 0.093\n",
      "processed: 0.185\n",
      "processed: 0.278\n",
      "processed: 0.371\n",
      "processed: 0.464\n",
      "processed: 0.556\n",
      "processed: 0.649\n",
      "processed: 0.742\n",
      "processed: 0.835\n",
      "processed: 0.927\n"
     ]
    },
    {
     "data": {
      "text/plain": [
       "3784363    None\n",
       "716855     None\n",
       "2136765    None\n",
       "4596869    None\n",
       "3316734    None\n",
       "           ... \n",
       "3844701    None\n",
       "1382044    None\n",
       "1672868    None\n",
       "2571096    None\n",
       "4472094    None\n",
       "Length: 1078405, dtype: object"
      ]
     },
     "execution_count": 53,
     "metadata": {},
     "output_type": "execute_result"
    }
   ],
   "source": [
    "# test ratings dictionary\n",
    "usermovie2rating_test = {}\n",
    "print(\"Calling: update_usermovie2rating_test\")\n",
    "count = 0\n",
    "def update_usermovie2rating_test(row):\n",
    "    global count\n",
    "    count += 1\n",
    "    if count % 100000 == 0:\n",
    "        print(\"processed: %.3f\" % (float(count)/len(df_test)))\n",
    "    \n",
    "    i = int(row.userId)\n",
    "    j = int(row.movie_idx)\n",
    "    usermovie2rating_test[(i,j)] = row.rating\n",
    "df_test.apply(update_usermovie2rating_test, axis=1)"
   ]
  },
  {
   "cell_type": "code",
   "execution_count": 54,
   "metadata": {},
   "outputs": [],
   "source": [
    "# note: these are not really JSONs, but binary files\n",
    "# becasue JSON keys have to be strings, but ours are int\n",
    "with open('user2movie.json', 'wb') as f:\n",
    "  pickle.dump(user2movie, f)\n",
    "\n",
    "with open('movie2user.json', 'wb') as f:\n",
    "  pickle.dump(movie2user, f)\n",
    "\n",
    "with open('usermovie2rating.json', 'wb') as f:\n",
    "  pickle.dump(usermovie2rating, f)\n",
    "\n",
    "with open('usermovie2rating_test.json', 'wb') as f:\n",
    "  pickle.dump(usermovie2rating_test, f)\n"
   ]
  },
  {
   "cell_type": "code",
   "execution_count": null,
   "metadata": {},
   "outputs": [],
   "source": []
  },
  {
   "cell_type": "code",
   "execution_count": null,
   "metadata": {},
   "outputs": [],
   "source": []
  }
 ],
 "metadata": {
  "kernelspec": {
   "display_name": "Python 3",
   "language": "python",
   "name": "python3"
  },
  "language_info": {
   "codemirror_mode": {
    "name": "ipython",
    "version": 3
   },
   "file_extension": ".py",
   "mimetype": "text/x-python",
   "name": "python",
   "nbconvert_exporter": "python",
   "pygments_lexer": "ipython3",
   "version": "3.7.6"
  }
 },
 "nbformat": 4,
 "nbformat_minor": 4
}
