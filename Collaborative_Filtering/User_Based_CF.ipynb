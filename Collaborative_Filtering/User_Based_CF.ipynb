{
 "cells": [
  {
   "cell_type": "markdown",
   "metadata": {},
   "source": [
    "# User-based Collaborative Filtering (CF)\n",
    "The goal is to find \"users like me\".\n",
    "\n",
    "1. [User-User CF](#useruser)\n",
    "2. [Item-Item CF](#itemitem)"
   ]
  },
  {
   "cell_type": "code",
   "execution_count": null,
   "metadata": {},
   "outputs": [],
   "source": [
    "from __future__ import print_function, division\n",
    "from builtins import range, input\n",
    "# Note: you may need to update your version of future\n",
    "# sudo pip install -U future\n",
    "\n",
    "import pickle\n",
    "import numpy as np\n",
    "import pandas as pd\n",
    "import matplotlib.pyplot as plt\n",
    "from sklearn.utils import shuffle\n",
    "from datetime import datetime\n",
    "from sortedcontainers import SortedList"
   ]
  },
  {
   "cell_type": "code",
   "execution_count": null,
   "metadata": {},
   "outputs": [],
   "source": [
    "# load in the data\n",
    "import os \n",
    "with open('user2movie.json', 'rb') as f:\n",
    "    user2movie = pickle.load(f)\n",
    "\n",
    "with open('movie2user.json', 'rb') as f:\n",
    "    movie2user = pickle.load(f)\n",
    "\n",
    "with open('usermovie2rating.json', 'rb') as f:\n",
    "    usermovie2rating = pickle.load(f)\n",
    "\n",
    "with open('usermovie2rating_test.json', 'rb') as f:\n",
    "    usermovie2rating_test = pickle.load(f)\n"
   ]
  },
  {
   "cell_type": "code",
   "execution_count": null,
   "metadata": {},
   "outputs": [],
   "source": []
  },
  {
   "cell_type": "markdown",
   "metadata": {},
   "source": [
    "## <a id='useruser'>1. User-User CF </a>\n",
    "Check out the **userbased.py** for clean code."
   ]
  },
  {
   "cell_type": "code",
   "execution_count": null,
   "metadata": {},
   "outputs": [],
   "source": [
    "N = np.max(list(user2movie.keys()))+1\n",
    "# The test set may contain movises the train set does not have data on\n",
    "m1 = np.max(list(movie2user.keys()))\n",
    "m2 = np.max([m for (u, m), r in usermovie2rating_test.items()])\n",
    "M = max(m1, m2) + 1\n",
    "print(\"N:\", N, \"M:\", M)"
   ]
  },
  {
   "cell_type": "markdown",
   "metadata": {},
   "source": [
    "#### All the stuff that need to be calculated:\n",
    "1. Each users average rating (r_bar)\n",
    "2. For each user i, we need to know its neighbors i'\n",
    "3. So I'm going to use these neighbors who already rated movie j to get a prediction for what user I would rate movie j (calculate all the weights and then sort -> n^2 calculation)\n",
    "4. It's actually useful to store the deviations as well."
   ]
  },
  {
   "cell_type": "markdown",
   "metadata": {},
   "source": [
    "<img src=\"images/score.png\" alt=\"score\" width=\"300\" height=\"200\">\n",
    "(user i, movie j)"
   ]
  },
  {
   "cell_type": "markdown",
   "metadata": {},
   "source": [
    "WE use Pearson correlation to estimate the similarity. The Pearson correlation coefficient ($r$) is a measure of the linear relationship between two variables $X$ and $Y$. It is calculated using the following formula:\n",
    "\n",
    "$$\n",
    "r = \\frac{\\sum_{i=1}^{n} (x_i - \\bar{x})(y_i - \\bar{y})}{\\sqrt{\\sum_{i=1}^{n} (x_i - \\bar{x})^2 \\sum_{i=1}^{n} (y_i - \\bar{y})^2}}\n",
    "$$\n",
    "\n"
   ]
  },
  {
   "cell_type": "code",
   "execution_count": null,
   "metadata": {},
   "outputs": [],
   "source": [
    "# to find the user similarities, you have to do O(N^2 * M) calculations!\n",
    "# in the \"real-world\" you'd want to parallelize this\n",
    "# note: we really only have to do half the calculations, since w_ij is symmetric\n",
    "K = 25 # number of neighbors we'd like to consider\n",
    "limit = 5 # number of common movies users must have in common in order to consider\n",
    "neighbors = [] # store each user's neighbors in this list\n",
    "averages = [] # each user's average rating\n",
    "deviations = [] # each user's deviation list\n",
    "\n",
    "# find the K closest users to user i\n",
    "for i in range(N):\n",
    "    movies_i = user2movie[i]\n",
    "    movies_i_set = set(movies_i)\n",
    "    # calcualte user i's avg and dev\n",
    "    ratings_i = {movie: usermovie2rating[(i, movie)] for movie in movies_i}\n",
    "    avg_i = np.mean(list(ratings_i.values()))\n",
    "    dev_i = {movie: (avg_i - usermovie2rating[(i, movie)]) for movie in movies_i}\n",
    "    dev_i_vals = np.array(list(dev_i.values()))\n",
    "    sigma_i = np.sqrt(dev_i_vals.dot(dev_i_vals)) # denominator in PC\n",
    "    \n",
    "    averages.append(avg_i)\n",
    "    deviations.append(dev_i)\n",
    "    \n",
    "    # loop through all the other N-1 users\n",
    "    sl = SortedList()\n",
    "    for j in range(N):\n",
    "        if j != i:\n",
    "            movies_j = user2movie[j]\n",
    "            movies_j_set = set(movies_j)\n",
    "            common_movies = (movies_i_set & movies_j_set)\n",
    "            if len(common_movies) > limit:\n",
    "                # calc avg and dev\n",
    "                ratings_j = {movie: usermovie2rating[(j, movie)] for movie in movies_j}\n",
    "                avg_j = np.mean(list(ratings_j.values()))\n",
    "                dev_j = {m: (avg_j - usermovie2rating[(j, m)]) for m in movies_j}\n",
    "                dev_j_vals = np.array(list(dev_j.values()))\n",
    "                sigma_j = np.sqrt(dev_i_vals.dot(dev_i_vals))\n",
    "                \n",
    "                # calc correlation coefficient\n",
    "                numerator = sum(dev_i[m] * dev_j[m] for m in common_movies)\n",
    "                denominator = sigma_i * sigma_j\n",
    "                wij = numerator / denominator\n",
    "                \n",
    "                sl.add((-wij, j)) # negate weight becasue list is sorted ascending\n",
    "                if len(sl) > K:\n",
    "                    del sl[-1]\n",
    "    \n",
    "    # store neighbors\n",
    "    neighbors.append(sl)\n",
    "    \n",
    "    if i % 1 == 0:\n",
    "        print(i)"
   ]
  },
  {
   "cell_type": "markdown",
   "metadata": {},
   "source": [
    "Use neighbors, calc train and test MSE"
   ]
  },
  {
   "cell_type": "code",
   "execution_count": null,
   "metadata": {},
   "outputs": [],
   "source": [
    "# i for current user, i_prime for all the other user,  m for movie\n",
    "def predict(i, m): \n",
    "    numerator = 0\n",
    "    denominator = 0\n",
    "    for neg_w, i_prime in neighbors[i]:\n",
    "        try:\n",
    "            numerator += -neg_w * deviations[i_prime][m]\n",
    "            denominator += abs(neg_w)\n",
    "        except KeyError:\n",
    "            # neighbor may not have rated the same movie\n",
    "            # dont want to do dict lookup twice\n",
    "            # so throw excetion\n",
    "            pass\n",
    "\n",
    "    if denominator == 0:\n",
    "        prediction = averages[i]\n",
    "    else:\n",
    "        prediction = averages[i] + numerator / denominator\n",
    "    prediction = min(5, prediction)   # max rating 5.0\n",
    "    prediction = max(0.5, prediction) # min rating 0.5\n",
    "    return prediction\n",
    "\n"
   ]
  },
  {
   "cell_type": "code",
   "execution_count": null,
   "metadata": {},
   "outputs": [],
   "source": [
    "train_predictions = []\n",
    "train_targets = []\n",
    "for (i, m), target in usermovie2rating.items():\n",
    "    # calc prediciton for this movie\n",
    "    prediction = predict(i, m)\n",
    "    train_predictions.append(prediction)\n",
    "    train_targets.append(target)\n",
    "    \n",
    "test_predictions = []\n",
    "test_targets = []\n",
    "for (i, m), target in usermovie2rating_test.items():\n",
    "    # calc prediciton for this movie\n",
    "    prediction = predict(i, m)\n",
    "    test_predictions.append(prediction)\n",
    "    test_targets.append(target)\n",
    "\n",
    "def mse(p, t):\n",
    "    p = np.array(p)\n",
    "    t = np.array(t)\n",
    "    return np.mean((p-t)**2)\n",
    "\n",
    "\n",
    "print('train mse:', mse(train_predictions, train_targets))\n",
    "print('test mse:', mse(test_predictions, test_targets))"
   ]
  },
  {
   "cell_type": "markdown",
   "metadata": {},
   "source": [
    "Movielens benchmark: a root mean squared error of about 0.8 or 0.9.\n",
    "\n",
    "Now, you might think that our simple technique has done extremely well, but of course this is only a subset of the full amount of data.\n",
    "\n",
    "So we've looked at about 150,000 reviews, if I remember correctly.\n",
    "\n",
    "In any case, we can be pretty confident that user user collaborative filtering does pretty well."
   ]
  }
 ],
 "metadata": {
  "kernelspec": {
   "display_name": "Python 3",
   "language": "python",
   "name": "python3"
  },
  "language_info": {
   "codemirror_mode": {
    "name": "ipython",
    "version": 3
   },
   "file_extension": ".py",
   "mimetype": "text/x-python",
   "name": "python",
   "nbconvert_exporter": "python",
   "pygments_lexer": "ipython3",
   "version": "3.7.6"
  }
 },
 "nbformat": 4,
 "nbformat_minor": 4
}
