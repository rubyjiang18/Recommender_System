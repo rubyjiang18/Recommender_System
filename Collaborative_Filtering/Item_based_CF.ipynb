{
 "cells": [
  {
   "cell_type": "markdown",
   "metadata": {},
   "source": [
    "# Item-based Collaborative Filtering (CF)\n",
    "The goal is to find similar items"
   ]
  },
  {
   "cell_type": "markdown",
   "metadata": {},
   "source": [
    "<img src=\"images/item_weight.png\" alt=\"weighr\" width=\"500\" height=\"200\">"
   ]
  },
  {
   "cell_type": "markdown",
   "metadata": {},
   "source": [
    "Comparsion:\n",
    "- User-user CF: choose items for a user, bc those items have been liked by similar users\n",
    "- Item-item CF: choose items for a user, bc this user has liked similar items in the past\n",
    "- Another perspective: to choose a user to recomned to item j, i can look at other items j' who liked the same users as item j. If item j and j' are similar, then they like the sme users -> mathematically identical"
   ]
  },
  {
   "cell_type": "markdown",
   "metadata": {},
   "source": [
    "<img src=\"images/difference.png\" alt=\"weighr\" width=\"500\" height=\"200\">"
   ]
  },
  {
   "cell_type": "markdown",
   "metadata": {},
   "source": [
    "## Code \n",
    "Check out **itembased.py** for clean code."
   ]
  },
  {
   "cell_type": "code",
   "execution_count": null,
   "metadata": {},
   "outputs": [],
   "source": [
    "from __future__ import print_function, division\n",
    "from builtins import range, input\n",
    "# Note: you may need to update your version of future\n",
    "# sudo pip install -U future\n",
    "\n",
    "import pickle\n",
    "import numpy as np\n",
    "import pandas as pd\n",
    "import matplotlib.pyplot as plt\n",
    "from sklearn.utils import shuffle\n",
    "from datetime import datetime\n",
    "from sortedcontainers import SortedList"
   ]
  },
  {
   "cell_type": "code",
   "execution_count": null,
   "metadata": {},
   "outputs": [],
   "source": [
    "# load in the data\n",
    "import os\n",
    "with open('user2movie.json', 'rb') as f:\n",
    "    user2movie = pickle.load(f)\n",
    "\n",
    "with open('movie2user.json', 'rb') as f:\n",
    "    movie2user = pickle.load(f)\n",
    "\n",
    "with open('usermovie2rating.json', 'rb') as f:\n",
    "    usermovie2rating = pickle.load(f)\n",
    "\n",
    "with open('usermovie2rating_test.json', 'rb') as f:\n",
    "    usermovie2rating_test = pickle.load(f)\n"
   ]
  },
  {
   "cell_type": "code",
   "execution_count": null,
   "metadata": {},
   "outputs": [],
   "source": [
    "N = np.max(list(user2movie.keys()))+1\n",
    "# The test set may contain movises the train set does not have data on\n",
    "m1 = np.max(list(movie2user.keys()))\n",
    "m2 = np.max([m for (u, m), r in usermovie2rating_test.items()])\n",
    "M = max(m1, m2) + 1\n",
    "print(\"N:\", N, \"M:\", M)\n"
   ]
  },
  {
   "cell_type": "code",
   "execution_count": null,
   "metadata": {},
   "outputs": [],
   "source": [
    "# to find the user similarities, you have to do O(M^2 * N) calculations!\n",
    "# in the \"real-world\" you'd want to parallelize this\n",
    "# note: we really only have to do half the calculations, since w_ij is symmetric\n",
    "K = 20 # number of neighbors we'd like to consider\n",
    "limit = 5 #  a threshold that we borther to calc correlation\n",
    "neighbors = [] # store neighbors in this list\n",
    "averages = [] # each item's average rating for later use (-wij, itemj)\n",
    "deviations = [] # each item's deviation for later use\n",
    "\n",
    "# find the K closest items to item i\n",
    "for i in range(M):\n",
    "    users_i = movie2user[i]\n",
    "    users_i_set = set(users_i)\n",
    "    \n",
    "    # calc avg and dev\n",
    "    ratings_i = {user: usermovie2rating[(user, i)] for user in users_i}\n",
    "    avg_i = np.mean(list(ratings_i.values()))\n",
    "    dev_i = {user: (usermovie2rating[(user, i)]-avg_i) for user in users_i}\n",
    "    dev_i_vals = np.array(list(dev_i.values()))\n",
    "    sigma_i = np.sqrt(dev_i_vals.dot(dev_i_vals))\n",
    "    \n",
    "    # save these for later use\n",
    "    averages.append(avg_i)\n",
    "    deviations.append(dev_i)\n",
    "    \n",
    "    sl = SortedList()\n",
    "    for j in range(M):\n",
    "        if j != i:\n",
    "            users_j = movie2user[j]\n",
    "            users_j_set = set(users_j)\n",
    "            common_users = (users_i_set & users_j_set)\n",
    "            if len(common_users)> limit:\n",
    "                # calc avg and dev\n",
    "                ratings_j = {user: usermovie2rating[(user, j)] for user in users_j}\n",
    "                avg_j = np.mean(list(ratings_j.values()))\n",
    "                dev_j = {user: (usermovie2rating[(user, j)]-avg_j) for user in users_j}\n",
    "                dev_j_vals = np.array(list(dev_j.values()))\n",
    "                sigma_j = np.sqrt(dev_j_vals.dot(dev_j_vals))\n",
    "                \n",
    "                # calc correlation coefficient\n",
    "                numerator = sum(dev_i[u]*dev_j[u] for u in common_users)\n",
    "                denominator = sigma_i * sigma_j\n",
    "                w_ij = numerator / denominator\n",
    "                \n",
    "                sl.add((-w_ij, j))\n",
    "                if len(sl) > K:\n",
    "                    del sl[-1]\n",
    "    \n",
    "    neighbors.append(sl)\n",
    "    if i%1 == 0:\n",
    "        print(i)"
   ]
  },
  {
   "cell_type": "markdown",
   "metadata": {},
   "source": [
    "<img src=\"images/item_score.png\" alt=\"score\" width=\"500\" height=\"200\">\n"
   ]
  },
  {
   "cell_type": "code",
   "execution_count": null,
   "metadata": {},
   "outputs": [],
   "source": [
    "# i is item, u is user\n",
    "def predict(i, u):\n",
    "    # calc the weighted sum of dev\n",
    "    numerator = 0\n",
    "    denominator = 0\n",
    "    for neg_w, j in neighbors[i]:\n",
    "        try:\n",
    "            numerator += -neg_w * deviations[j][u]\n",
    "            denominator += abs(neg_w)\n",
    "        except KeyError:\n",
    "            pass\n",
    "        \n",
    "    if denominator == 0:\n",
    "        prediction = averages[i]\n",
    "    else:\n",
    "        prediciton = averages[i] + numerator/denominator\n",
    "    \n",
    "    prediction = min(5, prediction)\n",
    "    prediction = max(0.5, prediction) # min rating is 0.5\n",
    "    return prediction"
   ]
  },
  {
   "cell_type": "code",
   "execution_count": null,
   "metadata": {},
   "outputs": [],
   "source": [
    "train_predictions = []\n",
    "train_targets = []\n",
    "for (i, m), target in usermovie2rating.items():\n",
    "    # calculate the prediction for this movie\n",
    "    prediction = predict(i, m)\n",
    "    # save the prediction and target\n",
    "    train_predictions.append(prediction)\n",
    "    train_targets.append(target)\n",
    "\n",
    "test_predictions = []\n",
    "test_targets = []\n",
    "# same thing for test set\n",
    "for (i, m), target in usermovie2rating_test.items():\n",
    "    # calculate the prediction for this movie\n",
    "    prediction = predict(i, m)\n",
    "\n",
    "    # save the prediction and target\n",
    "    test_predictions.append(prediction)\n",
    "    test_targets.append(target)\n",
    "\n",
    "\n",
    "# calculate accuracy\n",
    "def mse(p, t):\n",
    "    p = np.array(p)\n",
    "    t = np.array(t)\n",
    "    return np.mean((p - t)**2)\n",
    "\n",
    "print('train mse:', mse(train_predictions, train_targets))\n",
    "print('test mse:', mse(test_predictions, test_targets))"
   ]
  },
  {
   "cell_type": "markdown",
   "metadata": {},
   "source": [
    "Item based less overfit. You can think, item has more data than user.\n",
    "\n",
    "A user-user weight has to look at a small list of item. \n",
    "\n",
    "A item-item weight can look at a long list of users.\n",
    "\n",
    "However, item-based it \"too accurate\", only suggest similar products -> lack of diversity -> Youtube"
   ]
  }
 ],
 "metadata": {
  "kernelspec": {
   "display_name": "Python 3",
   "language": "python",
   "name": "python3"
  },
  "language_info": {
   "codemirror_mode": {
    "name": "ipython",
    "version": 3
   },
   "file_extension": ".py",
   "mimetype": "text/x-python",
   "name": "python",
   "nbconvert_exporter": "python",
   "pygments_lexer": "ipython3",
   "version": "3.7.6"
  }
 },
 "nbformat": 4,
 "nbformat_minor": 4
}
