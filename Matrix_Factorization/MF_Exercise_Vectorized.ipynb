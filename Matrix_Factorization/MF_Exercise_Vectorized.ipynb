{
 "cells": [
  {
   "cell_type": "code",
   "execution_count": 1,
   "metadata": {},
   "outputs": [],
   "source": [
    "from __future__ import print_function, division\n",
    "from builtins import range, input\n",
    "# Note: you may need to update your version of future\n",
    "# sudo pip install -U future\n",
    "\n",
    "import pickle\n",
    "import numpy as np\n",
    "import pandas as pd\n",
    "import matplotlib.pyplot as plt\n",
    "from sklearn.utils import shuffle\n",
    "from datetime import datetime"
   ]
  },
  {
   "cell_type": "code",
   "execution_count": 2,
   "metadata": {},
   "outputs": [],
   "source": [
    "# load in the data\n",
    "import os \n",
    "data_path = \"../processed_movielens_data/\"\n",
    "\n",
    "with open(data_path + 'user2movie.json', 'rb') as f:\n",
    "    user2movie = pickle.load(f)\n",
    "\n",
    "with open(data_path + 'movie2user.json', 'rb') as f:\n",
    "    movie2user = pickle.load(f)\n",
    "\n",
    "with open(data_path + 'usermovie2rating.json', 'rb') as f:\n",
    "    usermovie2rating = pickle.load(f)\n",
    "\n",
    "with open(data_path + 'usermovie2rating_test.json', 'rb') as f:\n",
    "    usermovie2rating_test = pickle.load(f)\n"
   ]
  },
  {
   "cell_type": "code",
   "execution_count": 4,
   "metadata": {},
   "outputs": [
    {
     "name": "stdout",
     "output_type": "stream",
     "text": [
      "N: 10000 M: 2000\n"
     ]
    }
   ],
   "source": [
    "N = np.max(list(user2movie.keys()))+1\n",
    "# The test set may contain movises the train set does not have data on\n",
    "m1 = np.max(list(movie2user.keys()))\n",
    "m2 = np.max([m for (u, m), r in usermovie2rating_test.items()])\n",
    "M = max(m1, m2) + 1\n",
    "print(\"N:\", N, \"M:\", M)\n"
   ]
  },
  {
   "cell_type": "markdown",
   "metadata": {},
   "source": [
    "<img src=\"images/vector.png\" alt=\"score\" width=\"400\" height=\"200\">"
   ]
  },
  {
   "cell_type": "markdown",
   "metadata": {},
   "source": [
    "The key is I don't actually have to do that inner loop.\n",
    "\n",
    "If I have a list of movies, I can index U and C directly with that list of movies.\n",
    "\n",
    "The problem is I need the corresponding ratings.\n",
    "\n",
    "Currently we have a separate dictionary for that, which only takes in a single user I and a single movie j to look up a single rating.\n",
    "\n",
    "What I'd really like to have is for each user, I want to look up all the movies they rated and all the corresponding ratings at the same time so that I don't have to loop over them.\n",
    "\n",
    "And that's exactly what we're doing here. -> a new dict"
   ]
  },
  {
   "cell_type": "markdown",
   "metadata": {},
   "source": [
    "#### convert user2movie and movie2user to include ratings\n",
    "Dict user2movierating\n",
    "- The key is still user id\n",
    "- The value is a tuple\n",
    "    - The first entry is the list of movies.\n",
    "    - The second entry is the list of ratings, which I'm grabbing from the ratings dictionary and then casting"
   ]
  },
  {
   "cell_type": "code",
   "execution_count": 7,
   "metadata": {},
   "outputs": [
    {
     "name": "stdout",
     "output_type": "stream",
     "text": [
      "converting...\n",
      "conversion done\n"
     ]
    }
   ],
   "source": [
    "print('converting...')\n",
    "user2movierating = dict()\n",
    "for i, movies in user2movie.items():\n",
    "    r = np.array([usermovie2rating[(i,j)] for j in movies])\n",
    "    user2movierating[i] = (movies, r)\n",
    "movie2userrating = {}\n",
    "for j, users in movie2user.items():\n",
    "    r = np.array([usermovie2rating[(i,j)] for i in users])\n",
    "    movie2userrating[j] = (users, r)\n",
    "\n",
    "# create a movie2user for test set, since we need it for loss\n",
    "movie2userrating_test = {}\n",
    "for (i, j), r in usermovie2rating_test.items():\n",
    "    if j not in movie2userrating_test:\n",
    "        movie2userrating_test[j] = [[i], [r]]\n",
    "    else:\n",
    "        movie2userrating_test[j][0].append(i)\n",
    "        movie2userrating_test[j][1].append(r)\n",
    "for j, (users, r) in movie2userrating_test.items():\n",
    "    movie2userrating_test[j][1] = np.array(r)\n",
    "print(\"conversion done\")"
   ]
  },
  {
   "cell_type": "code",
   "execution_count": 8,
   "metadata": {},
   "outputs": [],
   "source": [
    "K = 10 # latent dimensionality\n",
    "W = np.random.randn(N, K)\n",
    "b = np.zeros(N) # user bias\n",
    "U = np.random.randn(M, K)\n",
    "c = np.zeros(M) # movie bias\n",
    "mu = np.mean((list(usermovie2rating.values()))) # global average"
   ]
  },
  {
   "cell_type": "code",
   "execution_count": 9,
   "metadata": {},
   "outputs": [],
   "source": [
    "# def get_loss(d: dict):\n",
    "#     # d: (user_id, movie_id) -> rating\n",
    "#     N = float(len(d)) # num of ratings\n",
    "#     sse = 0\n",
    "#     for k, rating in d.items():\n",
    "#         i, j = k # i is user id, j is movie id\n",
    "#         pred = W[i].dot(U[j]) + b[i] + c[j] + mu\n",
    "#         sse += (pred - rating) * (pred - rating)\n",
    "#     return sse/N\n",
    "\n",
    "def get_loss(m2u):\n",
    "    # d: movie_id -> (user_ids, ratings)\n",
    "    N = 0.\n",
    "    sse = 0\n",
    "    for j, (u_ids, r) in m2u.items():\n",
    "        # check dimension to see why it works\n",
    "        p = W[u_ids].dot(U[j]) + b[u_ids] + c[j] + mu\n",
    "        delta = p - r\n",
    "        sse += delta.dot(delta)\n",
    "        N += len(r)\n",
    "    return sse / N\n"
   ]
  },
  {
   "cell_type": "code",
   "execution_count": null,
   "metadata": {},
   "outputs": [],
   "source": [
    "# train the parameters\n",
    "epochs = 25\n",
    "reg = 20. # regularization penalty\n",
    "train_losses = []\n",
    "test_losses = []\n",
    "for epoch in range(epochs):\n",
    "  print(\"epoch:\", epoch)\n",
    "  epoch_start = datetime.now()\n",
    "  # perform updates\n",
    "\n",
    "  # update W and b\n",
    "  t0 = datetime.now()\n",
    "  for i in range(N):\n",
    "    m_ids, r = user2movierating[i]\n",
    "    matrix = U[m_ids].T.dot(U[m_ids]) + np.eye(K) * reg\n",
    "    vector = (r - b[i] - c[m_ids] - mu).dot(U[m_ids])\n",
    "    bi = (r - U[m_ids].dot(W[i]) - c[m_ids] - mu).sum()\n",
    "\n",
    "    # set the updates\n",
    "    W[i] = np.linalg.solve(matrix, vector)\n",
    "    b[i] = bi / (len(user2movie[i]) + reg)\n",
    "\n",
    "    if i % (N//10) == 0:\n",
    "      print(\"i:\", i, \"N:\", N)\n",
    "  print(\"updated W and b:\", datetime.now() - t0)\n",
    "\n",
    "\n",
    "  # update U and c\n",
    "  t0 = datetime.now()\n",
    "  for j in range(M):\n",
    "    try:\n",
    "      u_ids, r = movie2userrating[j]\n",
    "      matrix = W[u_ids].T.dot(W[u_ids]) + np.eye(K) * reg\n",
    "      vector = (r - b[u_ids] - c[j] - mu).dot(W[u_ids])\n",
    "      cj = (r - W[u_ids].dot(U[j]) - b[u_ids] - mu).sum()\n",
    "\n",
    "      # set the updates\n",
    "      U[j] = np.linalg.solve(matrix, vector)\n",
    "      c[j] = cj / (len(movie2user[j]) + reg)\n",
    "\n",
    "      if j % (M//10) == 0:\n",
    "        print(\"j:\", j, \"M:\", M)\n",
    "    except KeyError:\n",
    "      # possible not to have any ratings for a movie\n",
    "      pass\n",
    "  print(\"updated U and c:\", datetime.now() - t0)\n",
    "  print(\"epoch duration:\", datetime.now() - epoch_start)\n",
    "\n",
    "\n",
    "  # store train loss\n",
    "  t0 = datetime.now()\n",
    "  train_losses.append(get_loss(movie2userrating))\n",
    "\n",
    "  # store test loss\n",
    "  test_losses.append(get_loss(movie2userrating_test))\n",
    "  print(\"calculate cost:\", datetime.now() - t0)\n",
    "  print(\"train loss:\", train_losses[-1])\n",
    "  print(\"test loss:\", test_losses[-1])\n",
    "\n",
    "\n",
    "print(\"train losses:\", train_losses)\n",
    "print(\"test losses:\", test_losses)\n",
    "\n",
    "# plot losses\n",
    "plt.plot(train_losses, label=\"train loss\")\n",
    "plt.plot(test_losses, label=\"test loss\")\n",
    "plt.legend()\n",
    "plt.show()\n"
   ]
  },
  {
   "cell_type": "code",
   "execution_count": null,
   "metadata": {},
   "outputs": [],
   "source": []
  },
  {
   "cell_type": "markdown",
   "metadata": {},
   "source": [
    "### Check the nlp_class2/pmi.py, the fully vectarized version."
   ]
  },
  {
   "cell_type": "code",
   "execution_count": null,
   "metadata": {},
   "outputs": [],
   "source": []
  }
 ],
 "metadata": {
  "kernelspec": {
   "display_name": "Python 3",
   "language": "python",
   "name": "python3"
  },
  "language_info": {
   "codemirror_mode": {
    "name": "ipython",
    "version": 3
   },
   "file_extension": ".py",
   "mimetype": "text/x-python",
   "name": "python",
   "nbconvert_exporter": "python",
   "pygments_lexer": "ipython3",
   "version": "3.7.6"
  }
 },
 "nbformat": 4,
 "nbformat_minor": 4
}
