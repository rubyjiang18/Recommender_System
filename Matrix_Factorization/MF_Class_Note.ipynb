{
 "cells": [
  {
   "cell_type": "markdown",
   "metadata": {},
   "source": [
    "<img src=\"intro1.png\" alt=\"score\" width=\"500\" height=\"200\">\n",
    "\n",
    "#### W - User matrix \n",
    "#### U - Movies matrix\n",
    "#### R^hat_ij is the predicted rating for user i and movie j\n",
    "\n",
    "<img src=\"intro2.png\" alt=\"score\" width=\"300\" height=\"200\">\n",
    "\n",
    "#### For one rating, use the following as it is fast\n",
    "<img src=\"intro3.png\" alt=\"score\" width=\"500\" height=\"200\">\n",
    "\n",
    "<img src=\"intro4.png\" alt=\"score\" width=\"500\" height=\"200\">"
   ]
  },
  {
   "cell_type": "markdown",
   "metadata": {},
   "source": [
    "### Interpretation\n",
    "<img src=\"intro5.png\" alt=\"score\" width=\"500\" height=\"200\">\n",
    "<img src=\"intro6.png\" alt=\"score\" width=\"400\" height=\"200\">\n",
    "\n",
    "- Now, of course, when we actually train a real matrix factorization model, the meaning of these features.\n",
    "- Each feature is **latent**, amd K is the latent dimensionality\n",
    "- To inspect the meaning of each feature, take the top 10 movies w/ the largest feature 1, see which catogories they have in common\n",
    "- MF extracts the \"features\" automaticaly using only ratings (powerful concept)"
   ]
  },
  {
   "cell_type": "markdown",
   "metadata": {},
   "source": [
    "### Dimensionality Reduction\n",
    "MF is an instance of DR."
   ]
  },
  {
   "cell_type": "markdown",
   "metadata": {},
   "source": [
    "In SVD, X can be decomposed into U, S, and V, where X = USV^T (exact equal).\n",
    "- X (N, M)\n",
    "- U (N, M)\n",
    "- S (M, M)\n",
    "- V (M, N)\n",
    "- This is assuming that all of the rows and columns of X are linearly independent and N is bigger than M\n",
    "- Rank of X is M.\n",
    "- But if we shrink down U, S, and V so that they are (N, k), (k, k), and (k, N), where k < M\n",
    "- We say X hat is the best rank K approximation of X\n",
    "- We call this DR bc rank of X was reduced from M to K\n",
    "- And so in the same way, MF is a way of reducing the dimensionality of the ratings matrix by reducing the dimensionality of the ratings matrix. We encourage it to learn the most important things that are required to recreate it.\n",
    "\n",
    "<img src=\"intro7.png\" alt=\"score\" width=\"400\" height=\"200\">"
   ]
  },
  {
   "cell_type": "markdown",
   "metadata": {},
   "source": [
    "# How to Train MF model?\n",
    "This is regression.\n",
    "<img src=\"intro8.png\" alt=\"score\" width=\"400\" height=\"200\">\n",
    "<img src=\"intro9.png\" alt=\"score\" width=\"400\" height=\"200\">\n",
    "$\\Omega$ = set of pairs (i,j) where user i rated movie j\n",
    "<img src=\"intro10.png\" alt=\"score\" width=\"400\" height=\"200\">\n",
    "At this point, things might seem a little messy because you have w transpose and it's not immediately clear how to isolate y by itself without the transpose. As you can see, it's stuck inside a dot product."
   ]
  },
  {
   "cell_type": "markdown",
   "metadata": {},
   "source": [
    "Tricks:\n",
    "- dot product is commutative -> W^TU == U^TW\n",
    "- the result of a dot product is a scalar -> uj^Twi -> rij\n",
    "- a scalar multiplied by a vector is the same as a vector multiplied by a scalar\n",
    "<img src=\"intro11.png\" alt=\"score\" width=\"500\" height=\"200\">\n",
    "<img src=\"intro12.png\" alt=\"score\" width=\"500\" height=\"200\">\n"
   ]
  },
  {
   "cell_type": "markdown",
   "metadata": {},
   "source": [
    "In machine learning, this algorithm is called alternating least squares.\n",
    "\n",
    "It's been proven that on each step we always get closer to a local minimum."
   ]
  },
  {
   "cell_type": "markdown",
   "metadata": {},
   "source": [
    "## Expand the equatiob\n",
    "<img src=\"intro13.png\" alt=\"score\" width=\"400\" height=\"200\">\n",
    "<img src=\"intro14.png\" alt=\"score\" width=\"400\" height=\"200\">\n",
    "<img src=\"intro15.png\" alt=\"score\" width=\"400\" height=\"200\">\n",
    "<img src=\"intro16.png\" alt=\"score\" width=\"400\" height=\"200\">\n",
    "<img src=\"intro17.png\" alt=\"score\" width=\"400\" height=\"200\">\n",
    "<img src=\"intro18.png\" alt=\"score\" width=\"400\" height=\"200\">"
   ]
  },
  {
   "cell_type": "markdown",
   "metadata": {},
   "source": [
    "## Summary\n",
    "<img src=\"intro19.png\" alt=\"score\" width=\"500\" height=\"200\">"
   ]
  },
  {
   "cell_type": "markdown",
   "metadata": {},
   "source": [
    "## Regularization on W, U, b and c\n",
    "<img src=\"intro20.png\" alt=\"score\" width=\"500\" height=\"200\">"
   ]
  },
  {
   "cell_type": "code",
   "execution_count": null,
   "metadata": {},
   "outputs": [],
   "source": []
  }
 ],
 "metadata": {
  "kernelspec": {
   "display_name": "Python 3",
   "language": "python",
   "name": "python3"
  },
  "language_info": {
   "codemirror_mode": {
    "name": "ipython",
    "version": 3
   },
   "file_extension": ".py",
   "mimetype": "text/x-python",
   "name": "python",
   "nbconvert_exporter": "python",
   "pygments_lexer": "ipython3",
   "version": "3.7.6"
  }
 },
 "nbformat": 4,
 "nbformat_minor": 4
}
