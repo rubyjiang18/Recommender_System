{
 "cells": [
  {
   "cell_type": "markdown",
   "metadata": {},
   "source": [
    "# Autoencoder\n",
    "<img src=\"autorec.png\" alt=\"score\" width=\"500\" height=\"200\">\n",
    "<img src=\"autorec2.png\" alt=\"score\" width=\"500\" height=\"200\">\n",
    "<img src=\"autorec3.png\" alt=\"score\" width=\"500\" height=\"200\">\n",
    "<img src=\"autorec4.png\" alt=\"score\" width=\"500\" height=\"200\">\n",
    "<img src=\"autorec5.png\" alt=\"score\" width=\"500\" height=\"200\">"
   ]
  },
  {
   "cell_type": "markdown",
   "metadata": {},
   "source": [
    "The next thing I want to mention in this lecture is that you have to be careful about how you calculate the cost because we're passing in a dense array.\n",
    "\n",
    "There are no missing values, just zeros. But we know that zeros represent missing values.\n",
    "\n",
    "And so you have to make sure that the auto encoder doesn't actually try to reproduce zeros if it sees zeros at the input, because by default, that's what an auto encoder does. It just reproduces its input. So if it sees zero, it's going to try to reproduce zero.\n",
    "\n",
    "So the key is you have to build your cost function by using a mask only if the input is non zero should that dimension contribute to the cost."
   ]
  },
  {
   "cell_type": "markdown",
   "metadata": {},
   "source": [
    "<img src=\"autorec6.png\" alt=\"score\" width=\"500\" height=\"200\">\n",
    "<img src=\"autorec7.png\" alt=\"score\" width=\"500\" height=\"200\">"
   ]
  },
  {
   "cell_type": "code",
   "execution_count": null,
   "metadata": {},
   "outputs": [],
   "source": []
  }
 ],
 "metadata": {
  "kernelspec": {
   "display_name": "Python 3",
   "language": "python",
   "name": "python3"
  },
  "language_info": {
   "codemirror_mode": {
    "name": "ipython",
    "version": 3
   },
   "file_extension": ".py",
   "mimetype": "text/x-python",
   "name": "python",
   "nbconvert_exporter": "python",
   "pygments_lexer": "ipython3",
   "version": "3.7.6"
  }
 },
 "nbformat": 4,
 "nbformat_minor": 4
}
